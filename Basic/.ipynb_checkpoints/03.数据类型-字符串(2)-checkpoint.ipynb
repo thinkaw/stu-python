{
 "cells": [
  {
   "cell_type": "markdown",
   "metadata": {},
   "source": [
    "### 写在前面\n",
    "> 在几乎任何语言中，字符串都是一种非常重要的数据类型。对于字符串的处理也非常多。本文接着学习字符串世界中内容。\n",
    "> 今天的主要内容是字符串使用的一些方法。"
   ]
  },
  {
   "cell_type": "markdown",
   "metadata": {},
   "source": [
    "### 字符串的索引和切片"
   ]
  },
  {
   "cell_type": "code",
   "execution_count": 1,
   "metadata": {},
   "outputs": [
    {
     "name": "stdout",
     "output_type": "stream",
     "text": [
      "P n\n"
     ]
    }
   ],
   "source": [
    "# 字符串可以索引，第一字符的索引值是0，负数索引从-1开始\n",
    "word = 'Python'\n",
    "print(word[0], word[5])"
   ]
  },
  {
   "cell_type": "markdown",
   "metadata": {},
   "source": [
    " +---+---+---+---+---+---+\n",
    " | P | y | t | h | o | n |\n",
    " +---+---+---+---+---+---+\n",
    " 0   1   2   3   4   5   \n",
    " -6  -5  -4  -3  -2  -1"
   ]
  },
  {
   "cell_type": "code",
   "execution_count": 3,
   "metadata": {},
   "outputs": [
    {
     "name": "stdout",
     "output_type": "stream",
     "text": [
      "n n P\n"
     ]
    }
   ],
   "source": [
    "print(word[5], word[-1], word[-6])"
   ]
  },
  {
   "cell_type": "code",
   "execution_count": 4,
   "metadata": {},
   "outputs": [
    {
     "name": "stdout",
     "output_type": "stream",
     "text": [
      "Pyth Pyth Pt\n"
     ]
    }
   ],
   "source": [
    "# 字符串除了支持索引，还支持切片\n",
    "print(word[0:4], word[0:4:1], word[0:4:2])"
   ]
  },
  {
   "cell_type": "markdown",
   "metadata": {},
   "source": [
    "**注：切片的选择是包括起始索引值，不包括终止索引值。另外，还有步幅的概念。**"
   ]
  },
  {
   "cell_type": "code",
   "execution_count": 5,
   "metadata": {},
   "outputs": [
    {
     "name": "stdout",
     "output_type": "stream",
     "text": [
      "Pyth on Python\n"
     ]
    }
   ],
   "source": [
    "# 切片的一些省略写法\n",
    "# 起始索引不写，代表从0开始；终止索引不写，代表到字符串结尾；不写开始和终止，代表从0开始，终止结束，即整个字符串。\n",
    "print(word[:4], word[4:], word[:])"
   ]
  },
  {
   "cell_type": "code",
   "execution_count": 8,
   "metadata": {},
   "outputs": [
    {
     "name": "stdout",
     "output_type": "stream",
     "text": [
      "Python Python <class 'str'> <class 'str'>\n"
     ]
    }
   ],
   "source": [
    "# word[:]和word代表同样的意思\n",
    "print(word[:], word, type(word), type(word[:]))"
   ]
  },
  {
   "cell_type": "code",
   "execution_count": 9,
   "metadata": {},
   "outputs": [
    {
     "ename": "IndexError",
     "evalue": "string index out of range",
     "output_type": "error",
     "traceback": [
      "\u001b[0;31m---------------------------------------------------------------------------\u001b[0m",
      "\u001b[0;31mIndexError\u001b[0m                                Traceback (most recent call last)",
      "\u001b[0;32m<ipython-input-9-0556cbcb7916>\u001b[0m in \u001b[0;36m<module>\u001b[0;34m()\u001b[0m\n\u001b[1;32m      1\u001b[0m \u001b[0;31m# 如果引用的索引超出范围，会报错。\u001b[0m\u001b[0;34m\u001b[0m\u001b[0;34m\u001b[0m\u001b[0m\n\u001b[0;32m----> 2\u001b[0;31m \u001b[0mprint\u001b[0m\u001b[0;34m(\u001b[0m\u001b[0mword\u001b[0m\u001b[0;34m[\u001b[0m\u001b[0;36m66\u001b[0m\u001b[0;34m]\u001b[0m\u001b[0;34m)\u001b[0m\u001b[0;34m\u001b[0m\u001b[0m\n\u001b[0m",
      "\u001b[0;31mIndexError\u001b[0m: string index out of range"
     ]
    }
   ],
   "source": [
    "# 如果引用的索引超出范围，会报错(string index out of range)\n",
    "print(word[66])"
   ]
  },
  {
   "cell_type": "code",
   "execution_count": 10,
   "metadata": {},
   "outputs": [
    {
     "name": "stdout",
     "output_type": "stream",
     "text": [
      "thon Pyt\n"
     ]
    }
   ],
   "source": [
    "# 但是如果是在切片中，超出范围的索引会被很好的处理。\n",
    "print(word[2:66], word[-88:-3])"
   ]
  },
  {
   "cell_type": "markdown",
   "metadata": {},
   "source": [
    "**注：字符串为常量，不可更改。**"
   ]
  },
  {
   "cell_type": "code",
   "execution_count": 20,
   "metadata": {},
   "outputs": [
    {
     "name": "stdout",
     "output_type": "stream",
     "text": [
      "nohtyP\n"
     ]
    }
   ],
   "source": [
    "# 反转一个字符串\n",
    "print(word[::-1])"
   ]
  },
  {
   "cell_type": "markdown",
   "metadata": {},
   "source": [
    "### 字符串的主要方法"
   ]
  },
  {
   "cell_type": "code",
   "execution_count": 13,
   "metadata": {},
   "outputs": [
    {
     "name": "stdout",
     "output_type": "stream",
     "text": [
      "True True False\n"
     ]
    }
   ],
   "source": [
    "# in方法，判断一个字符或者字符串是否存在于另一个字符串中\n",
    "# 字符区分大小写\n",
    "s = 'th'\n",
    "word = \"Python\"\n",
    "\n",
    "print(s in word, 'P' in word, 'p' in word)"
   ]
  },
  {
   "cell_type": "code",
   "execution_count": 19,
   "metadata": {},
   "outputs": [
    {
     "name": "stdout",
     "output_type": "stream",
     "text": [
      "6\n",
      "n\n",
      "n\n"
     ]
    }
   ],
   "source": [
    "# len方法，得到一个字符串的长度\n",
    "# 得到字符串中最后一个字符的方式除了使用-1索引，也可以使用获取字符串长度，然后-1的方式\n",
    "print(len(word))\n",
    "print(word[-1])\n",
    "print(word[len(word)-1])"
   ]
  },
  {
   "cell_type": "code",
   "execution_count": 27,
   "metadata": {},
   "outputs": [
    {
     "name": "stdout",
     "output_type": "stream",
     "text": [
      "Foo bar baz qux || foo bar baz qux || FOo bAr baz QUx || Foo Bar Baz Qux || FOO BAR BAZ QUX\n"
     ]
    }
   ],
   "source": [
    "# 大小写转化，capitalize，lower，swapcase，title，upper，\n",
    "# capitalize：字符串首字母大写\n",
    "# lower：全部字符小写；upper：全部字符大写\n",
    "# title：每个单词首字母大写，其余小写\n",
    "# swapcase：全部字符大小写反转\n",
    "s = 'foO BaR BAZ quX'\n",
    "print(s.capitalize() + \" || \" + s.lower() + \" || \" + s.swapcase() + \" || \" + s.title() + \" || \" + s.upper())"
   ]
  },
  {
   "cell_type": "code",
   "execution_count": 33,
   "metadata": {},
   "outputs": [
    {
     "name": "stdout",
     "output_type": "stream",
     "text": [
      "3\n",
      "2\n"
     ]
    }
   ],
   "source": [
    "# 查找和替换，count，endswith，find，rfind，startwith，\n",
    "# count，查找特定字符或者字符串在另一个字符串中出现的次数\n",
    "print('foo goo moo'.count('oo',))\n",
    "print('foo goo moo'.count('oo', 0, 8))"
   ]
  },
  {
   "cell_type": "code",
   "execution_count": 36,
   "metadata": {},
   "outputs": [
    {
     "name": "stdout",
     "output_type": "stream",
     "text": [
      "True\n",
      "False\n",
      "True\n",
      "False\n",
      "True\n",
      "True\n"
     ]
    }
   ],
   "source": [
    "# startwith和endwith，是否以特定字符或者字符串开头或者结尾\n",
    "# startwith和endwith也可以设定起始和终止位置，相当于是在子串中判断头尾\n",
    "print('foobar'.startswith('foo'))\n",
    "print('foobar'.startswith('foa'))\n",
    "print('foobar'.endswith('bar'))\n",
    "print('foobar'.endswith('baz'))\n",
    "print('foobar'.startswith('oba',2,5))\n",
    "print('foobar'.endswith('ba',2,5))"
   ]
  },
  {
   "cell_type": "code",
   "execution_count": 40,
   "metadata": {},
   "outputs": [
    {
     "name": "stdout",
     "output_type": "stream",
     "text": [
      "0\n",
      "-1\n",
      "16\n"
     ]
    }
   ],
   "source": [
    "# find，在给定字符串中查找另外一个字符串或者字符，如果找到，则返回第一次找到的位置；如果没有找到则返回-1\n",
    "print('foo bar foo baz foo qux'.find('foo'))\n",
    "print('foo bar foo baz foo qux'.find('ma'))\n",
    "print('foo bar foo baz foo qux'.rfind('foo'))"
   ]
  },
  {
   "cell_type": "code",
   "execution_count": 47,
   "metadata": {},
   "outputs": [
    {
     "name": "stdout",
     "output_type": "stream",
     "text": [
      "1+2+3+4+5 <class 'str'>\n"
     ]
    }
   ],
   "source": [
    "# join，使用特定字符将列表中的元素连接成一个字符串\n",
    "seq = ['1', '2', '3', '4', '5']\n",
    "sep = '+'\n",
    "\n",
    "print(sep.join(seq), type(sep.join(seq)))"
   ]
  },
  {
   "cell_type": "code",
   "execution_count": 48,
   "metadata": {},
   "outputs": [
    {
     "name": "stdout",
     "output_type": "stream",
     "text": [
      "['1', '2', '3', '4', '5']\n"
     ]
    }
   ],
   "source": [
    "# split，join的逆操作\n",
    "s = '1+2+3+4+5'\n",
    "print(s.split('+'))"
   ]
  },
  {
   "cell_type": "code",
   "execution_count": 43,
   "metadata": {},
   "outputs": [
    {
     "data": {
      "text/plain": [
       "'Theez eez a test'"
      ]
     },
     "execution_count": 43,
     "metadata": {},
     "output_type": "execute_result"
    }
   ],
   "source": [
    "# replace：类似文本编辑器的查找并替换功能\n",
    "'This is a test'.replace('is', 'eez')"
   ]
  },
  {
   "cell_type": "code",
   "execution_count": 52,
   "metadata": {},
   "outputs": [
    {
     "name": "stdout",
     "output_type": "stream",
     "text": [
      "Hello,world! Hello,world!____ __Hello,world!\n"
     ]
    }
   ],
   "source": [
    "# strip，lstrip，rstrip\n",
    "s = \"  Hello,world!    \"\n",
    "print(s.strip().replace(' ','_'), s.lstrip().replace(' ','_'), s.rstrip().replace(' ','_'))"
   ]
  },
  {
   "cell_type": "code",
   "execution_count": 62,
   "metadata": {},
   "outputs": [
    {
     "data": {
      "text/plain": [
       "'thiz iz khikken!'"
      ]
     },
     "execution_count": 62,
     "metadata": {},
     "output_type": "execute_result"
    }
   ],
   "source": [
    "# translate\n",
    "\n",
    "table = str.maketrans('cs', 'kz')\n",
    "\n",
    "'this is chicken!'.translate(table)"
   ]
  },
  {
   "cell_type": "markdown",
   "metadata": {},
   "source": [
    "#### 参考学习\n",
    "-1 [Python基础：序列（字符串）](https://www.cnblogs.com/russellluo/p/3295765.html)"
   ]
  }
 ],
 "metadata": {
  "kernelspec": {
   "display_name": "Python 3",
   "language": "python",
   "name": "python3"
  },
  "language_info": {
   "codemirror_mode": {
    "name": "ipython",
    "version": 3
   },
   "file_extension": ".py",
   "mimetype": "text/x-python",
   "name": "python",
   "nbconvert_exporter": "python",
   "pygments_lexer": "ipython3",
   "version": "3.7.0"
  }
 },
 "nbformat": 4,
 "nbformat_minor": 2
}
