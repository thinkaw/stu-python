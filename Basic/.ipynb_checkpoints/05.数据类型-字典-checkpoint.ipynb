{
 "cells": [
  {
   "cell_type": "markdown",
   "metadata": {},
   "source": [
    "### 写在前面\n",
    "\n",
    "字典这种数据类型，简单说就是一个键值对的集合。和列表有很多相似之处。"
   ]
  },
  {
   "cell_type": "markdown",
   "metadata": {},
   "source": [
    "字典和列表都具有以下特征：\n",
    "1 两者都是可变的\n",
    "2 两者都是动态的，可以根据需要增长和缩小\n",
    "3 两者都可以嵌套，列表可以包括另外一个列表，字典也可以包括另外一个字典，字典可以包含列表，反之亦然。\n",
    "\n",
    "字典和列表的不同之处主要在于如何访问元素：\n",
    "1 列表元素可以通过索引在列表中的位置来访问\n",
    "2 字典元素通过键来访问"
   ]
  },
  {
   "cell_type": "markdown",
   "metadata": {},
   "source": [
    "### 字典的定义"
   ]
  },
  {
   "cell_type": "code",
   "execution_count": 2,
   "metadata": {
    "scrolled": true
   },
   "outputs": [
    {
     "name": "stdout",
     "output_type": "stream",
     "text": [
      "{'001': 'xiaoming', '002': 'xiaomei', '003': 'xiaolei', '004': 'xiaohong'} <class 'dict'>\n"
     ]
    }
   ],
   "source": [
    "student = {\n",
    "    '001':'xiaoming',\n",
    "    '002':'xiaomei',\n",
    "    '003':'xiaolei',\n",
    "    '004':'xiaohong'\n",
    "}\n",
    "\n",
    "print(student, type(student))"
   ]
  },
  {
   "cell_type": "code",
   "execution_count": 5,
   "metadata": {},
   "outputs": [
    {
     "name": "stdout",
     "output_type": "stream",
     "text": [
      "{'001': 'xiaoming', '002': 'xiaomei', '003': 'xiaolei', '004': 'xiaohong'} <class 'dict'>\n"
     ]
    }
   ],
   "source": [
    "# 也可以使用dict函数\n",
    "student = dict([\n",
    "    ('001','xiaoming'),\n",
    "    ('002','xiaomei'),\n",
    "    ('003','xiaolei'),\n",
    "    ('004','xiaohong')\n",
    "])\n",
    "\n",
    "print(student, type(student))"
   ]
  },
  {
   "cell_type": "code",
   "execution_count": 19,
   "metadata": {},
   "outputs": [
    {
     "name": "stdout",
     "output_type": "stream",
     "text": [
      "{0: 'xiaoming', 1: 'xiaomei', 2: 'xiaolei', 3: 'xiaohong'}\n"
     ]
    }
   ],
   "source": [
    "# d = {}\n",
    "l = ['xiaoming', 'xiaomei', 'xiaolei', 'xiaohong']\n",
    "for k, v in enumerate(l):\n",
    "    d[k] = v\n",
    "print(d)"
   ]
  },
  {
   "cell_type": "code",
   "execution_count": 21,
   "metadata": {},
   "outputs": [
    {
     "data": {
      "text/plain": [
       "{'001': 'xiaoming', '002': 'xiaomei', '003': 'xiaolei', '004': 'xiaohong'}"
      ]
     },
     "execution_count": 21,
     "metadata": {},
     "output_type": "execute_result"
    }
   ],
   "source": [
    "student = dict([\n",
    "    ('001','xiaoming'),\n",
    "    ('002','xiaomei'),\n",
    "    ('003','xiaolei'),\n",
    "    ('004','xiaohong')\n",
    "])\n",
    "\n",
    "student"
   ]
  },
  {
   "cell_type": "code",
   "execution_count": 28,
   "metadata": {},
   "outputs": [
    {
     "data": {
      "text/plain": [
       "{'xiaoming': '001', 'xiaomei': '002', 'xiaolei': '003', 'xiaohong': '004'}"
      ]
     },
     "execution_count": 28,
     "metadata": {},
     "output_type": "execute_result"
    }
   ],
   "source": [
    "# 当键都是简单的字符串时，通过关键字参数指定 键-值 对有时会更为方便\n",
    "student = dict(xiaoming='001', xiaomei='002', xiaolei='003', xiaohong='004')\n",
    "student"
   ]
  },
  {
   "cell_type": "code",
   "execution_count": 37,
   "metadata": {},
   "outputs": [
    {
     "name": "stdout",
     "output_type": "stream",
     "text": [
      "{'001': 'xiaoming', '002': 'xiaomei'}\n",
      "{'001': 'xiaoming', '002': 'xiaomei', '003': 'xiaolei'}\n",
      "{'001': 'xiaohong', '002': 'xiaomei', '003': 'xiaolei'}\n"
     ]
    }
   ],
   "source": [
    "# 逐一创建、补充一个字典内容\n",
    "student2 = {}\n",
    "student2['001'] = 'xiaoming'\n",
    "student2['002'] = 'xiaomei'\n",
    "\n",
    "print(student2)\n",
    "\n",
    "student2['003'] = 'xiaolei'\n",
    "print(student2)\n",
    "\n",
    "student2['001'] = 'xiaohong'\n",
    "print(student2)"
   ]
  },
  {
   "cell_type": "code",
   "execution_count": 38,
   "metadata": {},
   "outputs": [
    {
     "name": "stdout",
     "output_type": "stream",
     "text": [
      "{'001': 'xiaoming', '002': 'xiaomei', '003': 'xiaolei'}\n"
     ]
    }
   ],
   "source": [
    "# dict这个函数，接收的是一个元组，这个元组的元素是可以列表（只有两项）\n",
    "tmp=(['001','xiaoming'],['002','xiaomei'],['003', 'xiaolei'])\n",
    "students = dict(tmp)\n",
    "print(students)"
   ]
  },
  {
   "cell_type": "code",
   "execution_count": 39,
   "metadata": {},
   "outputs": [
    {
     "name": "stdout",
     "output_type": "stream",
     "text": [
      "{'001': 'xiaoming', '002': 'xiaomei', '003': 'xiaolei'}\n"
     ]
    }
   ],
   "source": [
    "# 和上面的定义方法一样\n",
    "students = dict((['001','xiaoming'],['002','xiaomei'],['003', 'xiaolei']))\n",
    "print(students)"
   ]
  },
  {
   "cell_type": "code",
   "execution_count": 41,
   "metadata": {},
   "outputs": [
    {
     "name": "stdout",
     "output_type": "stream",
     "text": [
      "{'me': 'my family', 'wife': 'my family', 'son': 'my family'}\n"
     ]
    }
   ],
   "source": [
    "# fromkeys(iterable, value=None, /) method of builtins.type instance\n",
    "#  Create a new dictionary with keys from iterable and values set to value.\n",
    "\n",
    "home = {}.fromkeys(['me','wife','son'],'my family')\n",
    "print(home)"
   ]
  },
  {
   "cell_type": "markdown",
   "metadata": {},
   "source": [
    "### 字典的访问"
   ]
  },
  {
   "cell_type": "code",
   "execution_count": 45,
   "metadata": {},
   "outputs": [
    {
     "name": "stdout",
     "output_type": "stream",
     "text": [
      "xiaoming\n",
      "{'002': 'xiaomei', '003': 'xiaolei', '004': 'xiaohong'}\n"
     ]
    }
   ],
   "source": [
    "student = dict([\n",
    "    ('001','xiaoming'),\n",
    "    ('002','xiaomei'),\n",
    "    ('003','xiaolei'),\n",
    "    ('004','xiaohong')\n",
    "])\n",
    "\n",
    "print(student['001'])\n",
    "\n",
    "del student['001']\n",
    "\n",
    "print(student)"
   ]
  },
  {
   "cell_type": "markdown",
   "metadata": {},
   "source": [
    "### 字典键的限制\n",
    "几乎任何类型的值都可以用作Python中的字典键，但是，字典键必须遵守一些限制。\n",
    "1 key键值必须唯一\n",
    "2 不可变的类型"
   ]
  },
  {
   "cell_type": "code",
   "execution_count": 47,
   "metadata": {},
   "outputs": [
    {
     "name": "stdout",
     "output_type": "stream",
     "text": [
      "{'001': 'xiaolei'}\n"
     ]
    }
   ],
   "source": [
    "# ‘001’这个键出现了多次，第二次出现的覆盖了第一次的。\n",
    "student={\n",
    "    '001':'xiaoming',\n",
    "    '001':'xiaolei'\n",
    "}\n",
    "\n",
    "print(student)"
   ]
  },
  {
   "cell_type": "markdown",
   "metadata": {},
   "source": [
    "### 字典的内置方法"
   ]
  },
  {
   "cell_type": "code",
   "execution_count": 48,
   "metadata": {},
   "outputs": [
    {
     "name": "stdout",
     "output_type": "stream",
     "text": [
      "{'001': 'xiaoming', '002': 'xiaomei', '003': 'xiaolei', '004': 'xiaohong'}\n",
      "{}\n"
     ]
    }
   ],
   "source": [
    "# clear\n",
    "student = dict([\n",
    "    ('001','xiaoming'),\n",
    "    ('002','xiaomei'),\n",
    "    ('003','xiaolei'),\n",
    "    ('004','xiaohong')\n",
    "])\n",
    "\n",
    "print(student)\n",
    "\n",
    "student.clear()\n",
    "print(student)"
   ]
  },
  {
   "cell_type": "code",
   "execution_count": 51,
   "metadata": {},
   "outputs": [
    {
     "name": "stdout",
     "output_type": "stream",
     "text": [
      "xiaolei\n",
      "None\n",
      "-1\n"
     ]
    }
   ],
   "source": [
    "# get\n",
    "student = dict([\n",
    "    ('001','xiaoming'),\n",
    "    ('002','xiaomei'),\n",
    "    ('003','xiaolei'),\n",
    "    ('004','xiaohong')\n",
    "])\n",
    "\n",
    "print(student.get('003'))\n",
    "print(student.get('005'))\n",
    "\n",
    "# 指定如果找不到的话，默认返回什么值\n",
    "print(student.get('005',-1))"
   ]
  },
  {
   "cell_type": "code",
   "execution_count": 53,
   "metadata": {},
   "outputs": [
    {
     "data": {
      "text/plain": [
       "[('001', 'xiaoming'),\n",
       " ('002', 'xiaomei'),\n",
       " ('003', 'xiaolei'),\n",
       " ('004', 'xiaohong')]"
      ]
     },
     "execution_count": 53,
     "metadata": {},
     "output_type": "execute_result"
    }
   ],
   "source": [
    "# items\n",
    "student = dict([\n",
    "    ('001','xiaoming'),\n",
    "    ('002','xiaomei'),\n",
    "    ('003','xiaolei'),\n",
    "    ('004','xiaohong')\n",
    "])\n",
    "\n",
    "list(student.items())"
   ]
  },
  {
   "cell_type": "code",
   "execution_count": 55,
   "metadata": {},
   "outputs": [
    {
     "name": "stdout",
     "output_type": "stream",
     "text": [
      "['001', '002', '003', '004']\n"
     ]
    }
   ],
   "source": [
    "# keys values\n",
    "print(list(student.keys()))\n",
    "print(list(student.values()))"
   ]
  },
  {
   "cell_type": "code",
   "execution_count": 56,
   "metadata": {},
   "outputs": [
    {
     "name": "stdout",
     "output_type": "stream",
     "text": [
      "{'001': 'xiaoming', '002': 'xiaomei', '003': 'xiaolei', '004': 'xiaohong'}\n",
      "{'002': 'xiaomei', '003': 'xiaolei', '004': 'xiaohong'}\n"
     ]
    }
   ],
   "source": [
    "# pop\n",
    "print(student)\n",
    "student.pop('001')\n",
    "print(student)"
   ]
  },
  {
   "cell_type": "code",
   "execution_count": 60,
   "metadata": {},
   "outputs": [
    {
     "name": "stdout",
     "output_type": "stream",
     "text": [
      "('004', 'xiaohong')\n",
      "{'001': 'xiaoming', '002': 'xiaomei', '003': 'xiaolei'}\n"
     ]
    }
   ],
   "source": [
    "# popitem\n",
    "student = dict([\n",
    "    ('001','xiaoming'),\n",
    "    ('002','xiaomei'),\n",
    "    ('003','xiaolei'),\n",
    "    ('004','xiaohong')\n",
    "])\n",
    "a = student.popitem()\n",
    "print(a)\n",
    "print(student)"
   ]
  },
  {
   "cell_type": "code",
   "execution_count": 63,
   "metadata": {},
   "outputs": [
    {
     "name": "stdout",
     "output_type": "stream",
     "text": [
      "{'a': 10, 'b': 25, 'c': 35}\n",
      "{'a': 10, 'b': 26, 'c': 36}\n"
     ]
    }
   ],
   "source": [
    "# update\n",
    "d1 = {'a':10,'b':20, 'c':30} \n",
    "d1.update([('b',25),('c',35)])\n",
    "\n",
    "print(d1)\n",
    "\n",
    "d1.update(b=26, c=36)\n",
    "print(d1)"
   ]
  },
  {
   "cell_type": "markdown",
   "metadata": {},
   "source": [
    "### 使用字典格式化字符串"
   ]
  },
  {
   "cell_type": "code",
   "execution_count": 64,
   "metadata": {},
   "outputs": [
    {
     "name": "stdout",
     "output_type": "stream",
     "text": [
      "<html>\n",
      "    <head><title>My Home Page</title></head>\n",
      "    <body>\n",
      "    <h1>My Home Page</h1>\n",
      "    <p>Welcome to my home page!</p>\n",
      "    </body>\n"
     ]
    }
   ],
   "source": [
    "template = '''<html>\n",
    "    <head><title>%(title)s</title></head>\n",
    "    <body>\n",
    "    <h1>%(title)s</h1>\n",
    "    <p>%(text)s</p>\n",
    "    </body>'''\n",
    "\n",
    "data = {'title':'My Home Page', 'text':'Welcome to my home page!'}\n",
    "\n",
    "print(template % data)"
   ]
  },
  {
   "cell_type": "code",
   "execution_count": 65,
   "metadata": {},
   "outputs": [
    {
     "data": {
      "text/plain": [
       "\"Alice's phone number is 123\""
      ]
     },
     "execution_count": 65,
     "metadata": {},
     "output_type": "execute_result"
    }
   ],
   "source": [
    "phonebook = {'Alice':123, 'hello':456, 'sky':789}\n",
    "\n",
    "\"Alice's phone number is %(Alice)s\" % phonebook"
   ]
  },
  {
   "cell_type": "code",
   "execution_count": null,
   "metadata": {},
   "outputs": [],
   "source": []
  }
 ],
 "metadata": {
  "kernelspec": {
   "display_name": "Python 3",
   "language": "python",
   "name": "python3"
  },
  "language_info": {
   "codemirror_mode": {
    "name": "ipython",
    "version": 3
   },
   "file_extension": ".py",
   "mimetype": "text/x-python",
   "name": "python",
   "nbconvert_exporter": "python",
   "pygments_lexer": "ipython3",
   "version": "3.7.0"
  }
 },
 "nbformat": 4,
 "nbformat_minor": 2
}
