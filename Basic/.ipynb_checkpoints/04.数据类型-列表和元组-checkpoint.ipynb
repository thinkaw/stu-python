{
 "cells": [
  {
   "cell_type": "markdown",
   "metadata": {},
   "source": [
    "### 写在前面\n",
    "> 列表（list），顾名思义，一个列表，其中包括一些元素（对象）；元组可以理解是一种特殊的序列，序列和元组可以说是Python中最通用、最有用的数据类型。"
   ]
  },
  {
   "cell_type": "markdown",
   "metadata": {},
   "source": [
    "### 列表的定义和使用"
   ]
  },
  {
   "cell_type": "code",
   "execution_count": 2,
   "metadata": {},
   "outputs": [
    {
     "name": "stdout",
     "output_type": "stream",
     "text": [
      "['foo', 'bar', 'baz', 'qux']\n"
     ]
    },
    {
     "data": {
      "text/plain": [
       "['foo', 'bar', 'baz', 'qux']"
      ]
     },
     "execution_count": 2,
     "metadata": {},
     "output_type": "execute_result"
    }
   ],
   "source": [
    "# 通过将逗号分隔的对象序列括在方括号（[]）中来定义。\n",
    "a = ['foo', 'bar', 'baz', 'qux']\n",
    "\n",
    "print(a)"
   ]
  },
  {
   "cell_type": "code",
   "execution_count": 4,
   "metadata": {},
   "outputs": [
    {
     "data": {
      "text/plain": [
       "False"
      ]
     },
     "execution_count": 4,
     "metadata": {},
     "output_type": "execute_result"
    }
   ],
   "source": [
    "# 列表有如下特征：\n",
    "# - 1 有序的\n",
    "# - 2 可以包含任意对象\n",
    "# - 3 可以通过索引访问列表元素\n",
    "# - 4 可以嵌套到任意深度\n",
    "# - 5 列表是可变的\n",
    "# - 6 列表是动态的\n",
    "\n",
    "# 1 有序的\n",
    "a  =  [ 'foo', 'bar', 'baz', 'qux' ] \n",
    "b  =  [ 'baz', 'qux', 'bar', 'foo' ] \n",
    "a  ==  b "
   ]
  },
  {
   "cell_type": "code",
   "execution_count": 7,
   "metadata": {},
   "outputs": [
    {
     "name": "stdout",
     "output_type": "stream",
     "text": [
      "[2, 4, 6, 8]\n",
      "['aaa', 3, 7, ['bbb', 3.1415926]]\n",
      "[<function foo at 0x10d946488>, <module 'math' from '/usr/local/Cellar/python/3.7.0/Frameworks/Python.framework/Versions/3.7/lib/python3.7/lib-dynload/math.cpython-37m-darwin.so'>, <class 'int'>, <built-in function len>]\n",
      "[[2, 4, 6, 8], ['aaa', 3, 7, ['bbb', 3.1415926]], [<function foo at 0x10d946488>, <module 'math' from '/usr/local/Cellar/python/3.7.0/Frameworks/Python.framework/Versions/3.7/lib/python3.7/lib-dynload/math.cpython-37m-darwin.so'>, <class 'int'>, <built-in function len>]]\n",
      "[2, 4, 6, 6, 8]\n"
     ]
    }
   ],
   "source": [
    "# 2 可以包含任意对象\n",
    "a = [2, 4, 6, 8]\n",
    "b = ['aaa', 3, 7, ['bbb', 3.1415926]]\n",
    "def foo():\n",
    "    pass\n",
    "import math\n",
    "c = [foo, math, int, len]\n",
    "\n",
    "# 够复杂了吧\n",
    "d = [a, b, c]\n",
    "\n",
    "# 列表对象不必唯一\n",
    "e = [2, 4, 6, 6, 8]\n",
    "\n",
    "print(a)\n",
    "print(b)\n",
    "print(c)\n",
    "print(d)\n",
    "print(e)"
   ]
  },
  {
   "cell_type": "code",
   "execution_count": 8,
   "metadata": {},
   "outputs": [
    {
     "name": "stdout",
     "output_type": "stream",
     "text": [
      "['foo', 'bar', 'baz', 'qux', 'quux', 'corge']\n",
      "foo qux corge\n"
     ]
    }
   ],
   "source": [
    "# 3 可以通过索引访问列表元素\n",
    "# 并且支持切片操作，关于切片参见《03.数据类型-字符串(2)》中的介绍\n",
    "a  =  [ 'foo', 'bar', 'baz', 'qux', 'quux', 'corge' ]\n",
    "\n",
    "print(a)\n",
    "print(a[0], a[3], a[5])"
   ]
  },
  {
   "cell_type": "markdown",
   "metadata": {},
   "source": [
    "**注：字符串和列表的行为如此相似并非偶然。它们都是更通用的对象类型的特殊情况，称为可迭代。**"
   ]
  },
  {
   "cell_type": "code",
   "execution_count": 10,
   "metadata": {},
   "outputs": [
    {
     "data": {
      "text/plain": [
       "['a', ['bb', ['ccc', 'ddd']], ['ee']]"
      ]
     },
     "execution_count": 10,
     "metadata": {},
     "output_type": "execute_result"
    }
   ],
   "source": [
    "# 4 列表是可以嵌套的\n",
    "x = ['a', ['bb', ['ccc', 'ddd']], ['ee']]\n",
    "\n",
    "x"
   ]
  },
  {
   "cell_type": "code",
   "execution_count": 11,
   "metadata": {},
   "outputs": [
    {
     "name": "stdout",
     "output_type": "stream",
     "text": [
      "a\n",
      "bb\n",
      "ddd\n"
     ]
    }
   ],
   "source": [
    "# 访问嵌套列表\n",
    "print(x[0])\n",
    "print(x[1][0])\n",
    "print(x[1][1][1])"
   ]
  },
  {
   "cell_type": "code",
   "execution_count": 25,
   "metadata": {},
   "outputs": [
    {
     "name": "stdout",
     "output_type": "stream",
     "text": [
      "['foo', 'BAR', 'baz', 'qux', 'quux', 'corge']\n",
      "['foo', ['mmm', 'nnn'], 'baz', 'qux', 'quux', 'corge']\n"
     ]
    }
   ],
   "source": [
    "# 5 列表是可变的，下面我们看下如何修改列表内容\n",
    "a  =  [ 'foo', 'bar', 'baz', 'qux', 'quux', 'corge' ]\n",
    "\n",
    "a[1] = 'BAR'\n",
    "\n",
    "print(a)\n",
    "\n",
    "a[1] = ['mmm','nnn']\n",
    "\n",
    "print(a)"
   ]
  },
  {
   "cell_type": "code",
   "execution_count": 27,
   "metadata": {},
   "outputs": [
    {
     "name": "stdout",
     "output_type": "stream",
     "text": [
      "['foo', 'mmm', 'nnn', 'baz', 'qux', 'quux', 'corge']\n",
      "[1, 2, 3, 4, 5, 6, 7, 8]\n"
     ]
    }
   ],
   "source": [
    "# 可以使用切片访问的方式修改列表\n",
    "a  =  [ 'foo', 'bar', 'baz', 'qux', 'quux', 'corge' ]\n",
    "\n",
    "# 注意和a[1] = ['mmm','nnn']的区别\n",
    "a[1:2] = ['mmm','nnn']\n",
    "\n",
    "print(a)\n",
    "\n",
    "b = [1, 2, 7, 8]\n",
    "\n",
    "# 相当于插入列表元素\n",
    "b[2:2] = [3, 4, 5, 6]\n",
    "\n",
    "print(b)"
   ]
  },
  {
   "cell_type": "code",
   "execution_count": 13,
   "metadata": {},
   "outputs": [
    {
     "name": "stdout",
     "output_type": "stream",
     "text": [
      "['foo', 'baz', 'qux', 'quux', 'corge']\n"
     ]
    }
   ],
   "source": [
    "# 可以使用del删除列表项\n",
    "del a[1]\n",
    "\n",
    "print(a)"
   ]
  },
  {
   "cell_type": "code",
   "execution_count": 14,
   "metadata": {},
   "outputs": [
    {
     "ename": "NameError",
     "evalue": "name 'a' is not defined",
     "output_type": "error",
     "traceback": [
      "\u001b[0;31m---------------------------------------------------------------------------\u001b[0m",
      "\u001b[0;31mNameError\u001b[0m                                 Traceback (most recent call last)",
      "\u001b[0;32m<ipython-input-14-c342333e421e>\u001b[0m in \u001b[0;36m<module>\u001b[0;34m()\u001b[0m\n\u001b[1;32m      1\u001b[0m \u001b[0;32mdel\u001b[0m \u001b[0ma\u001b[0m\u001b[0;34m\u001b[0m\u001b[0m\n\u001b[0;32m----> 2\u001b[0;31m \u001b[0mprint\u001b[0m\u001b[0;34m(\u001b[0m\u001b[0ma\u001b[0m\u001b[0;34m)\u001b[0m\u001b[0;34m\u001b[0m\u001b[0m\n\u001b[0m",
      "\u001b[0;31mNameError\u001b[0m: name 'a' is not defined"
     ]
    }
   ],
   "source": [
    "# 也可以删除整个列表，但是一旦删除，后面不能再访问整个变量，否则会报错。\n",
    "del a\n",
    "print(a)"
   ]
  },
  {
   "cell_type": "code",
   "execution_count": 19,
   "metadata": {},
   "outputs": [
    {
     "name": "stdout",
     "output_type": "stream",
     "text": [
      "4521586504 4523332680\n",
      "[]\n",
      "[]\n",
      "4521981704 4523332680\n"
     ]
    }
   ],
   "source": [
    "# 清空列表\n",
    "a  =  [ 'foo', 'bar', 'baz', 'qux', 'quux', 'corge' ]\n",
    "b  =  [ 'foo', 'bar', 'baz', 'qux', 'quux', 'corge' ]\n",
    "\n",
    "print(id(a), id(b))\n",
    "# 不算是真正意义上的清空，我们可以理解只是把a这个变量指向了一个空的列表\n",
    "a = []\n",
    "print(a)\n",
    "\n",
    "b[:]=[]\n",
    "print(b)\n",
    "# 注意：a变量的内存地址换了，而b变量的并没有变\n",
    "print(id(a), id(b))"
   ]
  },
  {
   "cell_type": "code",
   "execution_count": 20,
   "metadata": {},
   "outputs": [
    {
     "name": "stdout",
     "output_type": "stream",
     "text": [
      "4522753224 4522930568\n",
      "[] []\n",
      "4522753224 4522930568\n"
     ]
    }
   ],
   "source": [
    "# 从上面清空列表的选择来说，最佳的操作方式是：b[:]=[]，因为这种方式会及时释放内存。\n",
    "# 还有两种操作方式，和这种操作可以起到相同的效果\n",
    "a  =  [ 'foo', 'bar', 'baz', 'qux', 'quux', 'corge' ]\n",
    "b  =  [ 'foo', 'bar', 'baz', 'qux', 'quux', 'corge' ]\n",
    "\n",
    "print(id(a), id(b))\n",
    "\n",
    "a.clear()\n",
    "del b[:]\n",
    "\n",
    "print(a,b)\n",
    "print(id(a), id(b))"
   ]
  },
  {
   "cell_type": "markdown",
   "metadata": {},
   "source": [
    "**注：所以清空列表有三种写法，b[:]=[]，b.clear(), del b[:]**"
   ]
  },
  {
   "cell_type": "code",
   "execution_count": 24,
   "metadata": {},
   "outputs": [
    {
     "name": "stdout",
     "output_type": "stream",
     "text": [
      "['aa', 'bb', 'cc', 'dd']\n",
      "['aa', 'bb', 'cc', 'dd', ['cc', 'dd']]\n",
      "['aa', 'bb', 'cc', 'dd', []]\n"
     ]
    }
   ],
   "source": [
    "# 清空操作，注意一种情况\n",
    "a = ['aa', 'bb']\n",
    "b = ['cc', 'dd']\n",
    "\n",
    "a.append(b)\n",
    "print(a)\n",
    "\n",
    "del b[:]\n",
    "print(a)"
   ]
  },
  {
   "cell_type": "code",
   "execution_count": 32,
   "metadata": {},
   "outputs": [
    {
     "name": "stdout",
     "output_type": "stream",
     "text": [
      "['a', 'b', '123']\n",
      "None\n"
     ]
    }
   ],
   "source": [
    "# 几个修改列表的方法操作\n",
    "# 字符串方法没有直接修改目标字符串。那是因为字符串是不可变的。相反，字符串方法返回一个新的字符串对象，该对象按方法的指示进行修改。\n",
    "# 列表方法不同。由于列表是可变的，因此此处显示的列表方法会修改目标列表。但是不会返回新对象\n",
    "a = ['a', 'b']\n",
    "b = a.append('123')\n",
    "\n",
    "print(a)\n",
    "print(b)"
   ]
  },
  {
   "cell_type": "code",
   "execution_count": 35,
   "metadata": {},
   "outputs": [
    {
     "name": "stdout",
     "output_type": "stream",
     "text": [
      "['a', 'b', 'c', 1, 2, 3]\n",
      "['a', 'b', 'c', [1, 2, 3]]\n"
     ]
    }
   ],
   "source": [
    "# 使用+运算符，连接列表\n",
    "a = ['a', 'b', 'c']\n",
    "b = [1, 2, 3]\n",
    "\n",
    "print(a + b)\n",
    "\n",
    "# 注意append和+运算符的行为方式是不同的，按照需要来\n",
    "a.append(b)\n",
    "print(a)"
   ]
  },
  {
   "cell_type": "code",
   "execution_count": 36,
   "metadata": {},
   "outputs": [
    {
     "name": "stdout",
     "output_type": "stream",
     "text": [
      "['a', 'b', 'c', 1, 2, 3]\n"
     ]
    }
   ],
   "source": [
    "# extend的行为和+相同\n",
    "a = ['a', 'b', 'c']\n",
    "b = [1, 2, 3]\n",
    "\n",
    "a.extend(b)\n",
    "print(a)"
   ]
  },
  {
   "cell_type": "code",
   "execution_count": 37,
   "metadata": {},
   "outputs": [
    {
     "name": "stdout",
     "output_type": "stream",
     "text": [
      "['a', 'd', 'b', 'c']\n"
     ]
    }
   ],
   "source": [
    "# insert\n",
    "a = ['a', 'b', 'c']\n",
    "a.insert(1,'d')\n",
    "print(a)"
   ]
  },
  {
   "cell_type": "code",
   "execution_count": 41,
   "metadata": {},
   "outputs": [
    {
     "name": "stdout",
     "output_type": "stream",
     "text": [
      "['b', 'c']\n"
     ]
    },
    {
     "ename": "ValueError",
     "evalue": "list.remove(x): x not in list",
     "output_type": "error",
     "traceback": [
      "\u001b[0;31m---------------------------------------------------------------------------\u001b[0m",
      "\u001b[0;31mValueError\u001b[0m                                Traceback (most recent call last)",
      "\u001b[0;32m<ipython-input-41-850de0cb404b>\u001b[0m in \u001b[0;36m<module>\u001b[0;34m()\u001b[0m\n\u001b[1;32m      4\u001b[0m \u001b[0;34m\u001b[0m\u001b[0m\n\u001b[1;32m      5\u001b[0m \u001b[0mprint\u001b[0m\u001b[0;34m(\u001b[0m\u001b[0ma\u001b[0m\u001b[0;34m)\u001b[0m\u001b[0;34m\u001b[0m\u001b[0m\n\u001b[0;32m----> 6\u001b[0;31m \u001b[0ma\u001b[0m\u001b[0;34m.\u001b[0m\u001b[0mremove\u001b[0m\u001b[0;34m(\u001b[0m\u001b[0;34m'd'\u001b[0m\u001b[0;34m)\u001b[0m\u001b[0;34m\u001b[0m\u001b[0m\n\u001b[0m",
      "\u001b[0;31mValueError\u001b[0m: list.remove(x): x not in list"
     ]
    }
   ],
   "source": [
    "# remove\n",
    "a = ['a', 'b', 'c']\n",
    "a.remove('a')\n",
    "\n",
    "print(a)\n",
    "\n",
    "# 如果要移除的元素不在列表中，则报错\n",
    "a.remove('d')"
   ]
  },
  {
   "cell_type": "code",
   "execution_count": 50,
   "metadata": {},
   "outputs": [
    {
     "name": "stdout",
     "output_type": "stream",
     "text": [
      "['a', 'b', 'c']\n",
      "['a', 'b', 'd']\n"
     ]
    }
   ],
   "source": [
    "# pop，使用索引的方式来remove列表中的元素\n",
    "a = ['a', 'b', 'c', 'd']\n",
    "b = ['a', 'b', 'c', 'd']\n",
    "a.pop()\n",
    "b.pop(2)\n",
    "\n",
    "print(a)\n",
    "print(b)"
   ]
  },
  {
   "cell_type": "markdown",
   "metadata": {},
   "source": [
    "**注：可以在Python解释器中快速查询list的帮助文档，help(list)。并可以通过敲击「/pop」，快速定位到pop函数的位置；或者直接help(list.pop)。**"
   ]
  },
  {
   "cell_type": "code",
   "execution_count": null,
   "metadata": {},
   "outputs": [],
   "source": [
    "# 6 列表是动态的，这一点从第5点可以看出，不再做实例演示"
   ]
  },
  {
   "cell_type": "markdown",
   "metadata": {},
   "source": [
    "### 元组的定义和使用"
   ]
  },
  {
   "cell_type": "markdown",
   "metadata": {},
   "source": [
    "元组在所有方面几乎都同列表相同，除了以下两个方面：\n",
    "1 通过将元素括在括号()里，而不是方括号[]里来定义；\n",
    "2 元组是不可变的"
   ]
  },
  {
   "cell_type": "markdown",
   "metadata": {},
   "source": [
    "既然元组较之列表是受限的，那么在什么情况下，我们应该使用元组，而不是使用列表呢？\n",
    "1 操作元组时，程序执行速度更快，比等效列表；\n",
    "2 我们不希望修改数据时；\n",
    "3 用作数据类型-字典中时，因为字典的键需要不可变，所以只能使用元组，而不能使用列表。"
   ]
  },
  {
   "cell_type": "code",
   "execution_count": 51,
   "metadata": {},
   "outputs": [
    {
     "name": "stdout",
     "output_type": "stream",
     "text": [
      "(1, 2, 3) <class 'tuple'>\n"
     ]
    }
   ],
   "source": [
    "a = (1,2,3)\n",
    "print(a, type(a))"
   ]
  },
  {
   "cell_type": "code",
   "execution_count": 54,
   "metadata": {},
   "outputs": [
    {
     "data": {
      "text/plain": [
       "('foo', 'bar', 'baz', 'qux')"
      ]
     },
     "execution_count": 54,
     "metadata": {},
     "output_type": "execute_result"
    }
   ],
   "source": [
    "# 元组的分配(Assignment)，包装(Packing)和拆包(Unpacking)\n",
    "t = ('foo', 'bar', 'baz', 'qux')\n",
    "t"
   ]
  },
  {
   "cell_type": "code",
   "execution_count": 55,
   "metadata": {},
   "outputs": [
    {
     "name": "stdout",
     "output_type": "stream",
     "text": [
      "foo bar baz qux\n"
     ]
    }
   ],
   "source": [
    "# 拆包，注意左右数目一致\n",
    "(a, b, c, d) = t\n",
    "print(a, b, c, d)"
   ]
  },
  {
   "cell_type": "code",
   "execution_count": 57,
   "metadata": {},
   "outputs": [
    {
     "name": "stdout",
     "output_type": "stream",
     "text": [
      "(1, 2, 3)\n",
      "1 2 3\n"
     ]
    }
   ],
   "source": [
    "# 在这样的赋值和少数其他情况下，Python允许通常用于表示元组的括号被省略\n",
    "t = 1, 2, 3\n",
    "print(t)\n",
    "\n",
    "a, b, c = t\n",
    "print(a, b, c)"
   ]
  },
  {
   "cell_type": "code",
   "execution_count": 58,
   "metadata": {},
   "outputs": [
    {
     "name": "stdout",
     "output_type": "stream",
     "text": [
      "[1, 2, 3] [4, 5, 6]\n",
      "[4, 5, 6] [1, 2, 3]\n"
     ]
    }
   ],
   "source": [
    "# 魔术时间\n",
    "# 假设你要交换a和b的值\n",
    "\n",
    "a = [1, 2, 3]\n",
    "b = [4, 5, 6]\n",
    "\n",
    "print(a, b)\n",
    "\n",
    "b, a = a, b\n",
    "\n",
    "print(a, b)"
   ]
  },
  {
   "cell_type": "markdown",
   "metadata": {},
   "source": [
    "### 写在最后\n",
    "本教程介绍了Python 列表和元组的基本属性，以及如何操作它们。您将在Python编程中广泛使用它们。\n",
    "\n",
    "列表的主要特征之一是它是有序的。列表中元素的顺序是该列表的固有属性，并且不会更改，除非修改了列表本身。（元组也是如此，当然它们不能被修改。）"
   ]
  }
 ],
 "metadata": {
  "kernelspec": {
   "display_name": "Python 3",
   "language": "python",
   "name": "python3"
  },
  "language_info": {
   "codemirror_mode": {
    "name": "ipython",
    "version": 3
   },
   "file_extension": ".py",
   "mimetype": "text/x-python",
   "name": "python",
   "nbconvert_exporter": "python",
   "pygments_lexer": "ipython3",
   "version": "3.7.0"
  }
 },
 "nbformat": 4,
 "nbformat_minor": 2
}
