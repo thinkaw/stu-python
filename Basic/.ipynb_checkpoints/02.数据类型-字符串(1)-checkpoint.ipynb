{
 "cells": [
  {
   "cell_type": "markdown",
   "metadata": {},
   "source": [
    "### 写在前面\n",
    "> 在几乎任何语言中，字符串都是一种非常重要的数据类型。对于字符串的处理也非常多。"
   ]
  },
  {
   "cell_type": "markdown",
   "metadata": {},
   "source": [
    "### 字符串定义"
   ]
  },
  {
   "cell_type": "code",
   "execution_count": 2,
   "metadata": {},
   "outputs": [
    {
     "data": {
      "text/plain": [
       "('Hello,world!', 'Hello,world!')"
      ]
     },
     "execution_count": 2,
     "metadata": {},
     "output_type": "execute_result"
    }
   ],
   "source": [
    "# 使用一对双引号「\"\"」或者一对单引号「''」，均可以定一个字符串\n",
    "\"Hello,world!\",'Hello,world!'"
   ]
  },
  {
   "cell_type": "code",
   "execution_count": 3,
   "metadata": {},
   "outputs": [
    {
     "data": {
      "text/plain": [
       "(\"Let's go!\", '\"Hello,world!\" she said')"
      ]
     },
     "execution_count": 3,
     "metadata": {},
     "output_type": "execute_result"
    }
   ],
   "source": [
    "# 使用双引号和单引号，本质是一样的，没有区别，只是在某些情况下，会更方便些\n",
    "\"Let's go!\", '\"Hello,world!\" she said'"
   ]
  },
  {
   "cell_type": "markdown",
   "metadata": {},
   "source": [
    "**注：也就是说，如果本身一个字符串中包括了单引号，那么就是用双引号对定义，反之亦然。比起使用转义字符来，这样会清晰简单很多。**"
   ]
  },
  {
   "cell_type": "code",
   "execution_count": 4,
   "metadata": {},
   "outputs": [
    {
     "data": {
      "text/plain": [
       "(\"Let's go!\", '\"Hello,world!\" she said')"
      ]
     },
     "execution_count": 4,
     "metadata": {},
     "output_type": "execute_result"
    }
   ],
   "source": [
    "# 转义字符「\\」\n",
    "'Let\\'s go!', \"\\\"Hello,world!\\\" she said\""
   ]
  },
  {
   "cell_type": "code",
   "execution_count": 7,
   "metadata": {},
   "outputs": [
    {
     "name": "stdout",
     "output_type": "stream",
     "text": [
      "let's say \"Hello,world!\"\n"
     ]
    }
   ],
   "source": [
    "# 字符串中同时包括单引号和双引号，使用转义字符\n",
    "print('let\\'s say \"Hello,world!\"')"
   ]
  },
  {
   "cell_type": "markdown",
   "metadata": {},
   "source": [
    "**注：对于转义字符的更多介绍可以参考 [玩转字符串](https://looly.gitbooks.io/python-basic/100/107.html)。**"
   ]
  },
  {
   "cell_type": "markdown",
   "metadata": {},
   "source": [
    "对于上面同时包括单引号和双引号的字符串，有没有不使用转义字符的方式（毕竟觉得转义字符麻烦一些）。解决方式就是**长字符串**。\n",
    "\n",
    "**长字符串由\"\"\"some char\"\"\"或者'''some char'''来定义。**"
   ]
  },
  {
   "cell_type": "code",
   "execution_count": 14,
   "metadata": {},
   "outputs": [
    {
     "name": "stdout",
     "output_type": "stream",
     "text": [
      "let's say \"Hello,world!\"\n"
     ]
    }
   ],
   "source": [
    "print('''let's say \"Hello,world!\"''')"
   ]
  },
  {
   "cell_type": "markdown",
   "metadata": {},
   "source": [
    "这样处理，是不是很完美，长字符串还能处很简单的处理换行，比如："
   ]
  },
  {
   "cell_type": "code",
   "execution_count": 38,
   "metadata": {},
   "outputs": [
    {
     "name": "stdout",
     "output_type": "stream",
     "text": [
      "select * \n",
      "  from t1\n",
      " where name = \"cuizl\"\n",
      "\n",
      "\n",
      "Beautiful is better than ugly.\n",
      "Explicit is better than implicit.\n",
      "Simple is better than complex.\n"
     ]
    }
   ],
   "source": [
    "print('''select * \n",
    "  from t1\n",
    " where name = \"cuizl\"''')\n",
    "\n",
    "print('\\n')\n",
    "\n",
    "text = '''Beautiful is better than ugly.\n",
    "Explicit is better than implicit.\n",
    "Simple is better than complex.'''\n",
    "\n",
    "print(text)"
   ]
  },
  {
   "cell_type": "code",
   "execution_count": null,
   "metadata": {},
   "outputs": [],
   "source": [
    "看上去长字符已经能解决不少问题了，再来看看下面的问题：*你要打印出电脑中的一个目录地址(C:\\cuizl\\name)。*"
   ]
  },
  {
   "cell_type": "code",
   "execution_count": 20,
   "metadata": {},
   "outputs": [
    {
     "name": "stdout",
     "output_type": "stream",
     "text": [
      "C:\\cuizl\n",
      "ame C:\\cuizl\n",
      "ame\n"
     ]
    }
   ],
   "source": [
    "print('''C:\\cuizl\\name''','C:\\cuizl\\name')"
   ]
  },
  {
   "cell_type": "markdown",
   "metadata": {},
   "source": [
    "为什么会这样，因为这里的「\\n」被识别成了换行处理。尝试如下处理："
   ]
  },
  {
   "cell_type": "code",
   "execution_count": 21,
   "metadata": {},
   "outputs": [
    {
     "name": "stdout",
     "output_type": "stream",
     "text": [
      "C:\\cuizl\\name\n"
     ]
    }
   ],
   "source": [
    "# 「\\\\」表示一个「\\」\n",
    "print('C:\\\\cuizl\\\\name')"
   ]
  },
  {
   "cell_type": "markdown",
   "metadata": {},
   "source": [
    "如果路径很长，是不是很麻烦？这时，使用**原始字符串**是不错的选择。原始字符串，顾名思义，转义字符仅仅是作为普通字符的意义使用。"
   ]
  },
  {
   "cell_type": "code",
   "execution_count": 11,
   "metadata": {},
   "outputs": [
    {
     "name": "stdout",
     "output_type": "stream",
     "text": [
      "C:\\cuizl\\name\n"
     ]
    }
   ],
   "source": [
    "print(r'C:\\cuizl\\name')"
   ]
  },
  {
   "cell_type": "markdown",
   "metadata": {},
   "source": [
    "**注：这里需要注意一种情况，就是一个字符串如果是以「\\」结尾的，那么原始字符会出错。**"
   ]
  },
  {
   "cell_type": "code",
   "execution_count": 22,
   "metadata": {},
   "outputs": [
    {
     "ename": "SyntaxError",
     "evalue": "EOL while scanning string literal (<ipython-input-22-0b6c18bdd5aa>, line 1)",
     "output_type": "error",
     "traceback": [
      "\u001b[0;36m  File \u001b[0;32m\"<ipython-input-22-0b6c18bdd5aa>\"\u001b[0;36m, line \u001b[0;32m1\u001b[0m\n\u001b[0;31m    print(r'C:\\cuizl\\name\\')\u001b[0m\n\u001b[0m                            ^\u001b[0m\n\u001b[0;31mSyntaxError\u001b[0m\u001b[0;31m:\u001b[0m EOL while scanning string literal\n"
     ]
    }
   ],
   "source": [
    "print(r'C:\\cuizl\\name\\')"
   ]
  },
  {
   "cell_type": "markdown",
   "metadata": {},
   "source": [
    " 暂时没有看到更好的办法，只能使用字符串拼接的方式。"
   ]
  },
  {
   "cell_type": "code",
   "execution_count": 24,
   "metadata": {},
   "outputs": [
    {
     "name": "stdout",
     "output_type": "stream",
     "text": [
      "C:\\cuizl\\name\\ C:\\cuizl\\name\\\n"
     ]
    }
   ],
   "source": [
    "print(r'C:\\cuizl\\name' + '\\\\', r'C:\\cuizl\\name' '\\\\')"
   ]
  },
  {
   "cell_type": "markdown",
   "metadata": {},
   "source": [
    "**注：相邻的两个字符串会自动连接，所以你看到第二个字符串（字面量）也能正确输出。**"
   ]
  },
  {
   "cell_type": "markdown",
   "metadata": {},
   "source": [
    "### 字符串拼接"
   ]
  },
  {
   "cell_type": "markdown",
   "metadata": {},
   "source": [
    "我们在上面已经看到了，字符串的拼接方式有两种：一种是相邻的字符串字面量，一种是使用「+」。"
   ]
  },
  {
   "cell_type": "code",
   "execution_count": 25,
   "metadata": {},
   "outputs": [
    {
     "data": {
      "text/plain": [
       "'Helloworld'"
      ]
     },
     "execution_count": 25,
     "metadata": {},
     "output_type": "execute_result"
    }
   ],
   "source": [
    "# 使用空格自动拼接，仅仅限于字符串字面量\n",
    "'Hello' 'world'"
   ]
  },
  {
   "cell_type": "code",
   "execution_count": 27,
   "metadata": {},
   "outputs": [
    {
     "ename": "SyntaxError",
     "evalue": "invalid syntax (<ipython-input-27-b11cac3cadd8>, line 3)",
     "output_type": "error",
     "traceback": [
      "\u001b[0;36m  File \u001b[0;32m\"<ipython-input-27-b11cac3cadd8>\"\u001b[0;36m, line \u001b[0;32m3\u001b[0m\n\u001b[0;31m    s 'world'\u001b[0m\n\u001b[0m            ^\u001b[0m\n\u001b[0;31mSyntaxError\u001b[0m\u001b[0;31m:\u001b[0m invalid syntax\n"
     ]
    }
   ],
   "source": [
    "# 因为*s*是一个变量而非字符串字面量，所以会报错。\n",
    "s = 'Hello'\n",
    "s 'world'"
   ]
  },
  {
   "cell_type": "markdown",
   "metadata": {},
   "source": [
    "**注：所以，为了更清晰、健壮。建议使用「+」做字符串的拼接操作。**"
   ]
  },
  {
   "cell_type": "markdown",
   "metadata": {},
   "source": [
    "### str和repr"
   ]
  },
  {
   "cell_type": "markdown",
   "metadata": {},
   "source": [
    "简单说：这两个函数都具有将对象字符串化的功能，不同之处是**str适合终端显示用，repr会包括处理对象的数据类型信息，适合开发和调试阶段用。**"
   ]
  },
  {
   "cell_type": "code",
   "execution_count": 41,
   "metadata": {},
   "outputs": [
    {
     "name": "stdout",
     "output_type": "stream",
     "text": [
      "<class 'str'> <class 'str'>\n"
     ]
    }
   ],
   "source": [
    "a=10\n",
    "print(type(str(a)),type(repr(a)))"
   ]
  },
  {
   "cell_type": "code",
   "execution_count": 42,
   "metadata": {},
   "outputs": [
    {
     "name": "stdout",
     "output_type": "stream",
     "text": [
      "123 123 '123' 123\n"
     ]
    }
   ],
   "source": [
    "print(str('123'),str(123),repr('123'),repr(123))"
   ]
  },
  {
   "cell_type": "markdown",
   "metadata": {},
   "source": [
    "**注：从repr('123')的输出结果，我们还能看出'123'的类型是字符串。**"
   ]
  },
  {
   "cell_type": "code",
   "execution_count": 43,
   "metadata": {},
   "outputs": [
    {
     "name": "stdout",
     "output_type": "stream",
     "text": [
      "2018-10-27 19:53:45.696768 datetime.datetime(2018, 10, 27, 19, 53, 45, 696768)\n"
     ]
    }
   ],
   "source": [
    "# 这个示例会更清楚地看到区别\n",
    "from datetime import datetime\n",
    "now = datetime.now()\n",
    "print(str(now),repr(now))"
   ]
  },
  {
   "cell_type": "markdown",
   "metadata": {},
   "source": [
    "参考信息：[Python中str()与repr()函数的区别](https://www.jianshu.com/p/2a41315ca47e)"
   ]
  },
  {
   "cell_type": "markdown",
   "metadata": {},
   "source": [
    "### 字符串格式化"
   ]
  },
  {
   "cell_type": "code",
   "execution_count": 44,
   "metadata": {},
   "outputs": [
    {
     "name": "stdout",
     "output_type": "stream",
     "text": [
      "my name is xiaoxiao, 20 years old!\n"
     ]
    }
   ],
   "source": [
    "# 最常用的一种字符串格式化方法\n",
    "format = \"my name is %s, %d years old!\"\n",
    "s_name = 'xiaoxiao'\n",
    "i_age = 20\n",
    "\n",
    "print(format % (s_name, i_age))"
   ]
  },
  {
   "cell_type": "code",
   "execution_count": 46,
   "metadata": {},
   "outputs": [
    {
     "name": "stdout",
     "output_type": "stream",
     "text": [
      "my name is xiaoxiao, 20 years old! my name is 20, xiaoxiao years old!\n"
     ]
    }
   ],
   "source": [
    "# 另外一种字符串格式化的方法\n",
    "# 按照位置访问参数\n",
    "format = \"my name is {0}, {1} years old!\"\n",
    "s_name = 'xiaoxiao'\n",
    "i_age = 20\n",
    "\n",
    "print(format.format(s_name, i_age), format.format(i_age, s_name))"
   ]
  },
  {
   "cell_type": "code",
   "execution_count": 47,
   "metadata": {},
   "outputs": [
    {
     "name": "stdout",
     "output_type": "stream",
     "text": [
      "my name is xiaoxiao, 20 years old! my name is xiaoxiao, 20 years old!\n"
     ]
    }
   ],
   "source": [
    "# 按照名称访问参数\n",
    "format = \"my name is {name}, {age} years old!\"\n",
    "s_name = 'xiaoxiao'\n",
    "i_age = 20\n",
    "\n",
    "print(format.format(name=s_name, age=i_age), format.format(age=i_age, name=s_name))"
   ]
  },
  {
   "cell_type": "code",
   "execution_count": 50,
   "metadata": {},
   "outputs": [
    {
     "data": {
      "text/plain": [
       "'my name is xiaoxiao, 20 years old!'"
      ]
     },
     "execution_count": 50,
     "metadata": {},
     "output_type": "execute_result"
    }
   ],
   "source": [
    "# 模板字符串\n",
    "from string import Template\n",
    "s = Template(\"my name is $name, $age years old!\")\n",
    "s.substitute({'name':'xiaoxiao','age':20})"
   ]
  },
  {
   "cell_type": "markdown",
   "metadata": {},
   "source": [
    "**注：第一种使用方式最简单；第三种使用方式更灵活可靠，第四种方式基本类似第三种，但是使用起来复杂一些。**"
   ]
  },
  {
   "cell_type": "code",
   "execution_count": null,
   "metadata": {},
   "outputs": [],
   "source": [
    "# f-string\n",
    "# 暂时不做了解\n"
   ]
  },
  {
   "cell_type": "markdown",
   "metadata": {},
   "source": [
    "参考学习：\n",
    "- 1[f-string](https://realpython.com/python-f-strings/)"
   ]
  }
 ],
 "metadata": {
  "kernelspec": {
   "display_name": "Python 3",
   "language": "python",
   "name": "python3"
  },
  "language_info": {
   "codemirror_mode": {
    "name": "ipython",
    "version": 3
   },
   "file_extension": ".py",
   "mimetype": "text/x-python",
   "name": "python",
   "nbconvert_exporter": "python",
   "pygments_lexer": "ipython3",
   "version": "3.7.0"
  }
 },
 "nbformat": 4,
 "nbformat_minor": 2
}
