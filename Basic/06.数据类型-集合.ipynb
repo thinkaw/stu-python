{
 "cells": [
  {
   "cell_type": "markdown",
   "metadata": {},
   "source": [
    "### 写在前面\n",
    "> 学过了前面的数据类型-字典，在我的理解里，集合就是一个只有键，没有值的字典。"
   ]
  },
  {
   "cell_type": "markdown",
   "metadata": {},
   "source": [
    "### 集合的定义"
   ]
  },
  {
   "cell_type": "code",
   "execution_count": 1,
   "metadata": {},
   "outputs": [
    {
     "name": "stdout",
     "output_type": "stream",
     "text": [
      "{'banana', 'pear', 'apple', 'orange'}\n"
     ]
    }
   ],
   "source": [
    "# 不重复，无序，和字典一样，大括号{}括起来\n",
    "basket = {'apple', 'orange', 'apple', 'pear', 'orange', 'banana'}\n",
    "print(basket)"
   ]
  },
  {
   "cell_type": "code",
   "execution_count": 6,
   "metadata": {},
   "outputs": [
    {
     "name": "stdout",
     "output_type": "stream",
     "text": [
      "{'r', 'q', 'i', 's', 'w'}\n",
      "{'face', 123, 'book', 'facebook', 'google'}\n"
     ]
    }
   ],
   "source": [
    "# 使用set方法创建\n",
    "s1 = set(\"qiwsir\")\n",
    "print(s1)\n",
    "\n",
    "s2 = set([123,\"google\",\"face\",\"book\",\"facebook\",\"book\"])\n",
    "print(s2)"
   ]
  },
  {
   "cell_type": "code",
   "execution_count": 7,
   "metadata": {},
   "outputs": [
    {
     "ename": "TypeError",
     "evalue": "unhashable type: 'list'",
     "output_type": "error",
     "traceback": [
      "\u001b[0;31m---------------------------------------------------------------------------\u001b[0m",
      "\u001b[0;31mTypeError\u001b[0m                                 Traceback (most recent call last)",
      "\u001b[0;32m<ipython-input-7-b18af74666c3>\u001b[0m in \u001b[0;36m<module>\u001b[0;34m()\u001b[0m\n\u001b[0;32m----> 1\u001b[0;31m \u001b[0ms3\u001b[0m \u001b[0;34m=\u001b[0m \u001b[0mset\u001b[0m\u001b[0;34m(\u001b[0m\u001b[0;34m[\u001b[0m\u001b[0;36m123\u001b[0m\u001b[0;34m,\u001b[0m\u001b[0;34m[\u001b[0m\u001b[0;36m1\u001b[0m\u001b[0;34m,\u001b[0m\u001b[0;36m2\u001b[0m\u001b[0;34m]\u001b[0m\u001b[0;34m]\u001b[0m\u001b[0;34m)\u001b[0m\u001b[0;34m\u001b[0m\u001b[0m\n\u001b[0m",
      "\u001b[0;31mTypeError\u001b[0m: unhashable type: 'list'"
     ]
    }
   ],
   "source": [
    "# 不支持列表作为集合元素\n",
    "s3 = set([123,[1,2]])"
   ]
  },
  {
   "cell_type": "code",
   "execution_count": 9,
   "metadata": {},
   "outputs": [
    {
     "ename": "TypeError",
     "evalue": "unhashable type: 'dict'",
     "output_type": "error",
     "traceback": [
      "\u001b[0;31m---------------------------------------------------------------------------\u001b[0m",
      "\u001b[0;31mTypeError\u001b[0m                                 Traceback (most recent call last)",
      "\u001b[0;32m<ipython-input-9-5b674dac5055>\u001b[0m in \u001b[0;36m<module>\u001b[0;34m()\u001b[0m\n\u001b[0;32m----> 1\u001b[0;31m \u001b[0ms4\u001b[0m \u001b[0;34m=\u001b[0m \u001b[0mset\u001b[0m\u001b[0;34m(\u001b[0m\u001b[0;34m[\u001b[0m\u001b[0;36m123\u001b[0m\u001b[0;34m,\u001b[0m\u001b[0;34m{\u001b[0m\u001b[0;36m1\u001b[0m\u001b[0;34m:\u001b[0m\u001b[0;34m'abc'\u001b[0m\u001b[0;34m,\u001b[0m \u001b[0;36m2\u001b[0m\u001b[0;34m:\u001b[0m\u001b[0;34m'def'\u001b[0m\u001b[0;34m}\u001b[0m\u001b[0;34m]\u001b[0m\u001b[0;34m)\u001b[0m\u001b[0;34m\u001b[0m\u001b[0m\n\u001b[0m",
      "\u001b[0;31mTypeError\u001b[0m: unhashable type: 'dict'"
     ]
    }
   ],
   "source": [
    "# 不支持字典作为集合元素\n",
    "s4 = set([123,{1:'abc', 2:'def'}])"
   ]
  },
  {
   "cell_type": "markdown",
   "metadata": {},
   "source": [
    "**注：set(< iter >)，<iter>包括包括列表，字典，元组，字符串。**"
   ]
  },
  {
   "cell_type": "code",
   "execution_count": 11,
   "metadata": {},
   "outputs": [
    {
     "name": "stdout",
     "output_type": "stream",
     "text": [
      "{'foo'}\n",
      "{'f', 'o'}\n"
     ]
    }
   ],
   "source": [
    "# 注意上面两种定义方式的差别\n",
    "print({'foo'})\n",
    "print(set('foo'))"
   ]
  },
  {
   "cell_type": "code",
   "execution_count": 13,
   "metadata": {},
   "outputs": [
    {
     "name": "stdout",
     "output_type": "stream",
     "text": [
      "set() <class 'set'>\n",
      "{} <class 'dict'>\n"
     ]
    }
   ],
   "source": [
    "# 定义一个空集合，只能使用set()\n",
    "print(set(), type(set()))\n",
    "print({}, type({}))"
   ]
  },
  {
   "cell_type": "markdown",
   "metadata": {},
   "source": [
    "### 集合上的操作\n",
    "虽然，集合没有索引、切片这些操作，但是，Python提供了另外的一些操作，这些操作基本上都是模仿数学集合上定义上的操作。"
   ]
  },
  {
   "cell_type": "code",
   "execution_count": 19,
   "metadata": {},
   "outputs": [
    {
     "name": "stdout",
     "output_type": "stream",
     "text": [
      "{'quux', 'baz', 'foo', 'qux', 'bar'} {'quux', 'baz', 'foo', 'qux', 'bar'}\n"
     ]
    }
   ],
   "source": [
    "# 并集操作\n",
    "x1 = {'foo', 'bar', 'baz'}\n",
    "x2 = {'baz', 'qux', 'quux'}\n",
    "\n",
    "# union \n",
    "print(x1.union(x2), x1 | x2)\n"
   ]
  },
  {
   "cell_type": "code",
   "execution_count": 20,
   "metadata": {},
   "outputs": [
    {
     "ename": "TypeError",
     "evalue": "unsupported operand type(s) for |: 'set' and 'tuple'",
     "output_type": "error",
     "traceback": [
      "\u001b[0;31m---------------------------------------------------------------------------\u001b[0m",
      "\u001b[0;31mTypeError\u001b[0m                                 Traceback (most recent call last)",
      "\u001b[0;32m<ipython-input-20-d83d33f7fbad>\u001b[0m in \u001b[0;36m<module>\u001b[0;34m()\u001b[0m\n\u001b[0;32m----> 1\u001b[0;31m \u001b[0mx1\u001b[0m \u001b[0;34m|\u001b[0m \u001b[0;34m(\u001b[0m\u001b[0;34m'baz'\u001b[0m\u001b[0;34m,\u001b[0m \u001b[0;34m'qux'\u001b[0m\u001b[0;34m,\u001b[0m \u001b[0;34m'quux'\u001b[0m\u001b[0;34m)\u001b[0m\u001b[0;34m\u001b[0m\u001b[0m\n\u001b[0m",
      "\u001b[0;31mTypeError\u001b[0m: unsupported operand type(s) for |: 'set' and 'tuple'"
     ]
    }
   ],
   "source": [
    "# |和union的差别\n",
    "# |的两端需要都是集合，本例右端是元组，所以会报错。\n",
    "x1 | ('baz', 'qux', 'quux')"
   ]
  },
  {
   "cell_type": "code",
   "execution_count": 21,
   "metadata": {},
   "outputs": [
    {
     "data": {
      "text/plain": [
       "{'bar', 'baz', 'foo', 'quux', 'qux'}"
      ]
     },
     "execution_count": 21,
     "metadata": {},
     "output_type": "execute_result"
    }
   ],
   "source": [
    "# union先将可以迭代的参数，转换成集合，然后再执行union操作。\n",
    "x1.union(('baz', 'qux', 'quux'))"
   ]
  },
  {
   "cell_type": "markdown",
   "metadata": {},
   "source": [
    "标准语法：\n",
    "x1.union(x2[, x3 ...])\n",
    "x1 | x2 [| x3 ...]"
   ]
  },
  {
   "cell_type": "code",
   "execution_count": 22,
   "metadata": {},
   "outputs": [
    {
     "name": "stdout",
     "output_type": "stream",
     "text": [
      "{'baz'}\n",
      "{'baz'}\n"
     ]
    }
   ],
   "source": [
    "# 交集操作\n",
    "# intersection和&\n",
    "x1 = { 'foo','bar','baz' } \n",
    "x2 = { 'baz', 'qux', 'quux'}\n",
    "\n",
    "print(x1.intersection(x2))\n",
    "print(x1 & x2)"
   ]
  },
  {
   "cell_type": "markdown",
   "metadata": {},
   "source": [
    "标准语法：\n",
    "x1.intersection(x2[, x3 ...])\n",
    "x1 & x2 [& x3 ...]"
   ]
  },
  {
   "cell_type": "code",
   "execution_count": 23,
   "metadata": {},
   "outputs": [
    {
     "name": "stdout",
     "output_type": "stream",
     "text": [
      "{'foo', 'bar'}\n",
      "{'foo', 'bar'}\n"
     ]
    }
   ],
   "source": [
    "# 差值操作\n",
    "# difference 和 -\n",
    "x1 = { 'foo','bar','baz' } \n",
    "x2 = { 'baz', 'qux', 'quux'}\n",
    "\n",
    "print(x1.difference(x2))\n",
    "print(x1 - x2)"
   ]
  },
  {
   "cell_type": "markdown",
   "metadata": {},
   "source": [
    "标准语法：\n",
    "x1.difference(x2[, x3 ...])\n",
    "x1 - x2 [- x3 ...]"
   ]
  },
  {
   "cell_type": "code",
   "execution_count": 26,
   "metadata": {},
   "outputs": [
    {
     "name": "stdout",
     "output_type": "stream",
     "text": [
      "{'quux', 'foo', 'qux', 'bar'}\n",
      "{'quux', 'foo', 'qux', 'bar'}\n",
      "{'quux', 'foo', 'qux', 'bar'}\n"
     ]
    }
   ],
   "source": [
    "# 对称差集\n",
    "# symmetric_difference和^\n",
    "x1 = { 'foo','bar','baz' } \n",
    "x2 = { 'baz', 'qux', 'quux'}\n",
    "\n",
    "print(x1.symmetric_difference(x2))\n",
    "print(x1 ^ x2)\n",
    "# 等价于\n",
    "print((x1 - x2) | (x2 - x1))"
   ]
  },
  {
   "cell_type": "markdown",
   "metadata": {},
   "source": [
    "标准语法：\n",
    "x1.symmetric_difference(x2)\n",
    "x1 ^ x2 [^ x3 ...]\n",
    "\n",
    "注：symmetric_difference不支持多值操作。"
   ]
  },
  {
   "cell_type": "code",
   "execution_count": 28,
   "metadata": {},
   "outputs": [
    {
     "name": "stdout",
     "output_type": "stream",
     "text": [
      "False\n",
      "True\n"
     ]
    }
   ],
   "source": [
    "# isdisjoint\n",
    "# 确定两个集合是否具有任何共同的元素。\n",
    "x1 = { 'foo','bar','baz' } \n",
    "x2 = { 'baz', 'qux', 'quux'}\n",
    "\n",
    "# 如果没有共同的元素，则返回真\n",
    "print(x1.isdisjoint(x2))\n",
    "print(x1.isdisjoint(x2-{'baz'}))"
   ]
  },
  {
   "cell_type": "code",
   "execution_count": 30,
   "metadata": {},
   "outputs": [
    {
     "name": "stdout",
     "output_type": "stream",
     "text": [
      "False\n",
      "True\n"
     ]
    }
   ],
   "source": [
    "# issubset 和 <=(<)\n",
    "# 确定一个集合是否是另一个集合的子集\n",
    "x1 = { 'foo','bar','baz' } \n",
    "x2 = { 'baz', 'qux', 'quux'}\n",
    "\n",
    "print(x1.issubset(x2))\n",
    "print((x2-{'qux','quux'}).issubset(x1))"
   ]
  },
  {
   "cell_type": "markdown",
   "metadata": {},
   "source": [
    "同issubset类似，还有issuperset和 >=(>)的操作方法。"
   ]
  },
  {
   "cell_type": "markdown",
   "metadata": {},
   "source": [
    "### 集合的修改"
   ]
  },
  {
   "cell_type": "markdown",
   "metadata": {},
   "source": [
    "虽然集合中包含的元素必须是不可变类型，但可以修改集合本身。与上述操作类似，可以使用多种运算符和方法来更改集合的内容。\n",
    "\n",
    "上面列出的每个并集，交集，差异和对称差异运算符都有一个可用于修改集合的扩充赋值形式。对于每个，也有相应的方法。"
   ]
  },
  {
   "cell_type": "code",
   "execution_count": 36,
   "metadata": {},
   "outputs": [
    {
     "name": "stdout",
     "output_type": "stream",
     "text": [
      "{'quux', 'baz', 'foo', 'qux', 'bar'}\n",
      "{'quux', 'baz', 'foo', 'qux', 'bar'}\n"
     ]
    }
   ],
   "source": [
    "# update 和 |=\n",
    "x1 = { 'foo','bar','baz' } \n",
    "x2 = { 'baz', 'qux', 'quux'}\n",
    "\n",
    "x1 |= x2\n",
    "print(x1)\n",
    "\n",
    "x1 = { 'foo','bar','baz' } \n",
    "x1.update(x2)\n",
    "print(x1)"
   ]
  },
  {
   "cell_type": "code",
   "execution_count": 38,
   "metadata": {},
   "outputs": [
    {
     "name": "stdout",
     "output_type": "stream",
     "text": [
      "{'baz'}\n",
      "{'baz'}\n"
     ]
    }
   ],
   "source": [
    "# intersection_update 和 &=\n",
    "x1 = { 'foo','bar','baz' } \n",
    "x2 = { 'baz', 'qux', 'quux'}\n",
    "\n",
    "x1 &= x2\n",
    "print(x1)\n",
    "\n",
    "x1 = { 'foo','bar','baz' } \n",
    "x1.intersection_update(x2)\n",
    "print(x1)"
   ]
  },
  {
   "cell_type": "code",
   "execution_count": 41,
   "metadata": {},
   "outputs": [
    {
     "name": "stdout",
     "output_type": "stream",
     "text": [
      "{'quux', 'foo', 'qux', 'bar'}\n",
      "{'quux', 'foo', 'qux', 'bar'}\n"
     ]
    }
   ],
   "source": [
    "# symmetric_difference_update 和 ^=\n",
    "x1 = { 'foo','bar','baz' } \n",
    "x2 = { 'baz', 'qux', 'quux'}\n",
    "\n",
    "x1 ^= x2\n",
    "print(x1)\n",
    "\n",
    "x1 = { 'foo','bar','baz' }\n",
    "x1.symmetric_difference_update(x2)\n",
    "print(x1)"
   ]
  },
  {
   "cell_type": "markdown",
   "metadata": {},
   "source": [
    "### 其他修改集合的方法"
   ]
  },
  {
   "cell_type": "code",
   "execution_count": 42,
   "metadata": {},
   "outputs": [
    {
     "name": "stdout",
     "output_type": "stream",
     "text": [
      "{'foo', 'qux', 'baz', 'bar'}\n"
     ]
    }
   ],
   "source": [
    "# x.add(<elem>)\n",
    "x = {'foo', 'bar', 'baz'}\n",
    "x.add('qux')\n",
    "\n",
    "print(x)"
   ]
  },
  {
   "cell_type": "code",
   "execution_count": 44,
   "metadata": {},
   "outputs": [
    {
     "name": "stdout",
     "output_type": "stream",
     "text": [
      "{'foo', 'bar', 'baz'}\n"
     ]
    },
    {
     "ename": "KeyError",
     "evalue": "'aaa'",
     "output_type": "error",
     "traceback": [
      "\u001b[0;31m---------------------------------------------------------------------------\u001b[0m",
      "\u001b[0;31mKeyError\u001b[0m                                  Traceback (most recent call last)",
      "\u001b[0;32m<ipython-input-44-1596ecff8109>\u001b[0m in \u001b[0;36m<module>\u001b[0;34m()\u001b[0m\n\u001b[1;32m      4\u001b[0m \u001b[0;34m\u001b[0m\u001b[0m\n\u001b[1;32m      5\u001b[0m \u001b[0mprint\u001b[0m\u001b[0;34m(\u001b[0m\u001b[0mx\u001b[0m\u001b[0;34m)\u001b[0m\u001b[0;34m\u001b[0m\u001b[0m\n\u001b[0;32m----> 6\u001b[0;31m \u001b[0mx\u001b[0m\u001b[0;34m.\u001b[0m\u001b[0mremove\u001b[0m\u001b[0;34m(\u001b[0m\u001b[0;34m'aaa'\u001b[0m\u001b[0;34m)\u001b[0m\u001b[0;34m\u001b[0m\u001b[0m\n\u001b[0m",
      "\u001b[0;31mKeyError\u001b[0m: 'aaa'"
     ]
    }
   ],
   "source": [
    "# x.remove(<elem>)\n",
    "x = {'foo', 'qux', 'baz', 'bar'}\n",
    "x.remove('qux')\n",
    "\n",
    "print(x)\n",
    "\n",
    "# 如果要移除的对象不在，则引发异常\n",
    "x.remove('aaa')"
   ]
  },
  {
   "cell_type": "markdown",
   "metadata": {},
   "source": [
    "x.discard(<elem>)的功能同remove，只不过如果要移除的对象不在集合中，不报错。"
   ]
  },
  {
   "cell_type": "code",
   "execution_count": 50,
   "metadata": {},
   "outputs": [
    {
     "name": "stdout",
     "output_type": "stream",
     "text": [
      "foo {'bar', 'baz', 'qux'}\n",
      "bar {'baz', 'qux'}\n",
      "baz {'qux'}\n",
      "qux set()\n"
     ]
    },
    {
     "ename": "KeyError",
     "evalue": "'pop from an empty set'",
     "output_type": "error",
     "traceback": [
      "\u001b[0;31m---------------------------------------------------------------------------\u001b[0m",
      "\u001b[0;31mKeyError\u001b[0m                                  Traceback (most recent call last)",
      "\u001b[0;32m<ipython-input-50-673e1ec42ae3>\u001b[0m in \u001b[0;36m<module>\u001b[0;34m()\u001b[0m\n\u001b[1;32m     14\u001b[0m \u001b[0mprint\u001b[0m\u001b[0;34m(\u001b[0m\u001b[0me4\u001b[0m\u001b[0;34m,\u001b[0m \u001b[0mx\u001b[0m\u001b[0;34m)\u001b[0m\u001b[0;34m\u001b[0m\u001b[0m\n\u001b[1;32m     15\u001b[0m \u001b[0;34m\u001b[0m\u001b[0m\n\u001b[0;32m---> 16\u001b[0;31m \u001b[0me5\u001b[0m \u001b[0;34m=\u001b[0m \u001b[0mx\u001b[0m\u001b[0;34m.\u001b[0m\u001b[0mpop\u001b[0m\u001b[0;34m(\u001b[0m\u001b[0;34m)\u001b[0m\u001b[0;34m\u001b[0m\u001b[0m\n\u001b[0m\u001b[1;32m     17\u001b[0m \u001b[0mprint\u001b[0m\u001b[0;34m(\u001b[0m\u001b[0me5\u001b[0m\u001b[0;34m,\u001b[0m \u001b[0mx\u001b[0m\u001b[0;34m)\u001b[0m\u001b[0;34m\u001b[0m\u001b[0m\n",
      "\u001b[0;31mKeyError\u001b[0m: 'pop from an empty set'"
     ]
    }
   ],
   "source": [
    "# x.pop()\n",
    "# 从集合中随机删除元素\n",
    "x = {'foo', 'qux', 'baz', 'bar'}\n",
    "e1 = x.pop()\n",
    "print(e1, x)\n",
    "\n",
    "e2 = x.pop()\n",
    "print(e2, x)\n",
    "\n",
    "e3 = x.pop()\n",
    "print(e3, x)\n",
    "\n",
    "e4 = x.pop()\n",
    "print(e4, x)\n",
    "\n",
    "e5 = x.pop()\n",
    "print(e5, x)"
   ]
  },
  {
   "cell_type": "code",
   "execution_count": 51,
   "metadata": {},
   "outputs": [
    {
     "name": "stdout",
     "output_type": "stream",
     "text": [
      "Help on method_descriptor:\n",
      "\n",
      "pop(...)\n",
      "    Remove and return an arbitrary set element.\n",
      "    Raises KeyError if the set is empty.\n",
      "\n"
     ]
    }
   ],
   "source": [
    "# 文档介绍的很清楚，但是我实际操作，pop的总是从前往后（从左往右）pop值出来\n",
    "help(set.pop)"
   ]
  },
  {
   "cell_type": "code",
   "execution_count": null,
   "metadata": {},
   "outputs": [],
   "source": []
  }
 ],
 "metadata": {
  "kernelspec": {
   "display_name": "Python 3",
   "language": "python",
   "name": "python3"
  },
  "language_info": {
   "codemirror_mode": {
    "name": "ipython",
    "version": 3
   },
   "file_extension": ".py",
   "mimetype": "text/x-python",
   "name": "python",
   "nbconvert_exporter": "python",
   "pygments_lexer": "ipython3",
   "version": "3.7.0"
  }
 },
 "nbformat": 4,
 "nbformat_minor": 2
}
